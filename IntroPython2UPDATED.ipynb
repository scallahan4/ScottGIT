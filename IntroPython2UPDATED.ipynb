{
 "cells": [
  {
   "cell_type": "markdown",
   "metadata": {},
   "source": [
    "# Conditional statement "
   ]
  },
  {
   "cell_type": "code",
   "execution_count": null,
   "metadata": {},
   "outputs": [],
   "source": [
    "# if statement \n",
    "temp = int(input('enter your temperature: '))\n",
    "dewpoint = int(input('enter your dewpoint:'))\n",
    "if temp >= 75 and dewpoint >= 65: \n",
    "    print(\"Conditions too warm\")\n",
    "elif temp <= 50:\n",
    "    print(\"Temp too cold!\")\n",
    "else: \n",
    "    print(\"Ideal Temperature\")\n"
   ]
  },
  {
   "cell_type": "markdown",
   "metadata": {},
   "source": [
    "# My Latitiude Function"
   ]
  },
  {
   "cell_type": "code",
   "execution_count": 3,
   "metadata": {},
   "outputs": [
    {
     "name": "stdout",
     "output_type": "stream",
     "text": [
      "enter latitude:23.5\n",
      "Not in tropics\n",
      "Northern Hemisphere\n"
     ]
    }
   ],
   "source": [
    "lat = float(input('enter latitude:'))\n",
    "if lat >= 90 or lat <= -99:\n",
    "    print(\"Please enter valid parameter\")\n",
    "elif lat == 0:\n",
    "        print('At Equator')\n",
    "elif -23.5 < lat <23.5:\n",
    "    print(\"In tropics\")\n",
    " \n",
    "else:\n",
    "    print('Not in tropics')\n",
    "if 0 < lat < 90:\n",
    "    print('Northern Hemisphere')\n",
    "elif -90 < lat < 0:\n",
    "    print('Southern Hemisphere')\n",
    "\n",
    "    "
   ]
  },
  {
   "cell_type": "markdown",
   "metadata": {},
   "source": [
    "# Functions"
   ]
  },
  {
   "cell_type": "code",
   "execution_count": 4,
   "metadata": {},
   "outputs": [],
   "source": [
    "def name():\n",
    "    name=input(\"Enter your first name:\")\n",
    "    print(\"Hi, my name is {}. It is nice to meet you!\".format(name))"
   ]
  },
  {
   "cell_type": "code",
   "execution_count": 7,
   "metadata": {},
   "outputs": [
    {
     "name": "stdout",
     "output_type": "stream",
     "text": [
      "Enter your first name:Scott\n",
      "Hi, my name is Scott. It is nice to meet you!\n"
     ]
    }
   ],
   "source": [
    "name()"
   ]
  },
  {
   "cell_type": "code",
   "execution_count": 8,
   "metadata": {},
   "outputs": [],
   "source": [
    "\n",
    "def dd(degree, minute, second, direction):\n",
    "    return  direction * (degree + (minute + second/60.)/60.)"
   ]
  },
  {
   "cell_type": "code",
   "execution_count": 10,
   "metadata": {},
   "outputs": [
    {
     "data": {
      "text/plain": [
       "34.307855555555555"
      ]
     },
     "execution_count": 10,
     "metadata": {},
     "output_type": "execute_result"
    }
   ],
   "source": [
    "dd(34,18,28.28,1)"
   ]
  },
  {
   "cell_type": "code",
   "execution_count": 11,
   "metadata": {},
   "outputs": [],
   "source": [
    "def fromfahrenheit(value):\n",
    "    return(value-32)/1.8"
   ]
  },
  {
   "cell_type": "code",
   "execution_count": 12,
   "metadata": {},
   "outputs": [
    {
     "data": {
      "text/plain": [
       "0.0"
      ]
     },
     "execution_count": 12,
     "metadata": {},
     "output_type": "execute_result"
    }
   ],
   "source": [
    "fromfahrenheit(32)"
   ]
  },
  {
   "cell_type": "code",
   "execution_count": 5,
   "metadata": {},
   "outputs": [
    {
     "name": "stdout",
     "output_type": "stream",
     "text": [
      "my module is running\n"
     ]
    }
   ],
   "source": [
    "import tempconvert"
   ]
  },
  {
   "cell_type": "code",
   "execution_count": null,
   "metadata": {},
   "outputs": [],
   "source": []
  }
 ],
 "metadata": {
  "kernelspec": {
   "display_name": "Python 3",
   "language": "python",
   "name": "python3"
  },
  "language_info": {
   "codemirror_mode": {
    "name": "ipython",
    "version": 3
   },
   "file_extension": ".py",
   "mimetype": "text/x-python",
   "name": "python",
   "nbconvert_exporter": "python",
   "pygments_lexer": "ipython3",
   "version": "3.7.4"
  }
 },
 "nbformat": 4,
 "nbformat_minor": 2
}
