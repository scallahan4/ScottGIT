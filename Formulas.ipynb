{
 "cells": [
  {
   "cell_type": "markdown",
   "metadata": {},
   "source": [
    "## Formulas\n"
   ]
  },
  {
   "cell_type": "code",
   "execution_count": 17,
   "metadata": {},
   "outputs": [],
   "source": [
    "\n",
    "def flight_data():\n",
    "    H_flmeters =float(input(\"Enter Flight Height in meters:\"))\n",
    "    H_fl = (H_flmeters/100)\n",
    "    f=float(input(\"Enter Focal length in centimeters:\"))\n",
    "    Sen_sp=float(input(\"Enter sensor span in centimeters:\"))\n",
    "    Sen_br=float(input(\"Enter sensor breadth in centimeters:\"))\n",
    "    Image_sp=int(input(\"Enter Image span in pixels:\"))\n",
    "    Image_br=int(input(\"Enter Image breadth in pixels:\"))\n",
    "    \n",
    "    Ground_span = (Sen_sp*(H_fl/f))*100\n",
    "    \n",
    "    \n",
    "    Ground_breadth = Sen_br*(H_fl/f)*100\n",
    "   \n",
    "    \n",
    "    GSD_span = (Ground_span/Image_sp)*100\n",
    "    \n",
    "    \n",
    "    GSD_breadth = (Ground_breadth/Image_br)*100\n",
    "   \n",
    "    \n",
    "    from tabulate import tabulate\n",
    "    print(tabulate([['Ground_span (m)', Ground_span], ['Ground_breadth (m)', Ground_breadth],['GSD_span (cm)', GSD_span],['GSD_breadth (cm)',GSD_breadth]], headers=['Calculation', 'Value'],tablefmt='fancy_grid'))\n",
    "    \n",
    "    "
   ]
  },
  {
   "cell_type": "code",
   "execution_count": 18,
   "metadata": {},
   "outputs": [
    {
     "name": "stdout",
     "output_type": "stream",
     "text": [
      "Enter Flight Height in meters:80\n",
      "Enter Focal length in centimeters:0.88\n",
      "Enter sensor span in centimeters:0.8\n",
      "Enter sensor breadth in centimeters:1.32\n",
      "Enter Image span in pixels:3078\n",
      "Enter Image breadth in pixels:5472\n",
      "╒════════════════════╤═══════════╕\n",
      "│ Calculation        │     Value │\n",
      "╞════════════════════╪═══════════╡\n",
      "│ Ground_span (m)    │  72.7273  │\n",
      "├────────────────────┼───────────┤\n",
      "│ Ground_breadth (m) │ 120       │\n",
      "├────────────────────┼───────────┤\n",
      "│ GSD_span (cm)      │   2.36281 │\n",
      "├────────────────────┼───────────┤\n",
      "│ GSD_breadth (cm)   │   2.19298 │\n",
      "╘════════════════════╧═══════════╛\n"
     ]
    }
   ],
   "source": [
    "flight_data()"
   ]
  }
 ],
 "metadata": {
  "kernelspec": {
   "display_name": "Python 3",
   "language": "python",
   "name": "python3"
  },
  "language_info": {
   "codemirror_mode": {
    "name": "ipython",
    "version": 3
   },
   "file_extension": ".py",
   "mimetype": "text/x-python",
   "name": "python",
   "nbconvert_exporter": "python",
   "pygments_lexer": "ipython3",
   "version": "3.7.4"
  }
 },
 "nbformat": 4,
 "nbformat_minor": 2
}
